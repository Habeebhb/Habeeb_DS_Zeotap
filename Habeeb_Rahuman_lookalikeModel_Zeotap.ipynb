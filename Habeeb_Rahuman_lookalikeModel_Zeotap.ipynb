{
  "nbformat": 4,
  "nbformat_minor": 0,
  "metadata": {
    "colab": {
      "provenance": [],
      "authorship_tag": "ABX9TyM82jPQnIBpL1bpjhcE8Rku",
      "include_colab_link": true
    },
    "kernelspec": {
      "name": "python3",
      "display_name": "Python 3"
    },
    "language_info": {
      "name": "python"
    }
  },
  "cells": [
    {
      "cell_type": "markdown",
      "metadata": {
        "id": "view-in-github",
        "colab_type": "text"
      },
      "source": [
        "<a href=\"https://colab.research.google.com/github/Habeebhb/Habeeb_DS_Zeotap/blob/main/Habeeb_Rahuman_lookalikeModel_Zeotap.ipynb\" target=\"_parent\"><img src=\"https://colab.research.google.com/assets/colab-badge.svg\" alt=\"Open In Colab\"/></a>"
      ]
    },
    {
      "cell_type": "markdown",
      "source": [
        "\n",
        "Lookalike Model;"
      ],
      "metadata": {
        "id": "bpIlhUCJesPm"
      }
    },
    {
      "cell_type": "code",
      "source": [
        "import pandas as pd\n",
        "from sklearn.metrics.pairwise import cosine_similarity\n",
        "from sklearn.preprocessing import StandardScaler\n"
      ],
      "metadata": {
        "id": "ZrJbb0u5ew5F"
      },
      "execution_count": 1,
      "outputs": []
    },
    {
      "cell_type": "code",
      "source": [
        "customers_file = 'Customers.csv'\n",
        "products_file = 'Products.csv'\n",
        "transactions_file = 'Transactions.csv'\n"
      ],
      "metadata": {
        "id": "LYdXSIWtexK4"
      },
      "execution_count": 2,
      "outputs": []
    },
    {
      "cell_type": "code",
      "source": [
        "customers_df = pd.read_csv(customers_file)\n",
        "products_df = pd.read_csv(products_file)\n",
        "transactions_df = pd.read_csv(transactions_file)\n",
        "#reading the files"
      ],
      "metadata": {
        "id": "eOd_NxrqfYbU"
      },
      "execution_count": 3,
      "outputs": []
    },
    {
      "cell_type": "code",
      "source": [
        "transactions_customers = pd.merge(transactions_df, customers_df, on=\"CustomerID\", how=\"left\")\n",
        "merged_df = pd.merge(transactions_customers, products_df, on=\"ProductID\", how=\"left\")\n",
        "#merging datasets"
      ],
      "metadata": {
        "id": "NgWkbTW7fePg"
      },
      "execution_count": 4,
      "outputs": []
    },
    {
      "cell_type": "code",
      "source": [
        "#Create customer profiles\n",
        "def create_customer_profiles(data):\n",
        "    profiles = (\n",
        "        data.groupby(\"CustomerID\")\n",
        "        .agg(\n",
        "            {\n",
        "                \"TotalValue\": \"sum\",  # Total transaction value\n",
        "                \"Quantity\": \"sum\",  # Total quantity purchased\n",
        "                \"ProductID\": \"nunique\",  # Number of unique products purchased\n",
        "                \"Category\": lambda x: x.mode()[0] if len(x) > 0 else None,  # Most common category\n",
        "                \"Region\": \"first\",  # Customer's region\n",
        "            }\n",
        "        )\n",
        "        .reset_index()\n",
        "    )\n",
        "    return profiles\n",
        "\n",
        "customer_profiles = create_customer_profiles(merged_df)\n"
      ],
      "metadata": {
        "id": "4VlGDFz_flQR"
      },
      "execution_count": 5,
      "outputs": []
    },
    {
      "cell_type": "code",
      "source": [
        "# Encoding\n",
        "customer_profiles_encoded = pd.get_dummies(customer_profiles, columns=[\"Category\", \"Region\"], drop_first=True)\n",
        "\n"
      ],
      "metadata": {
        "id": "ehgXxON6f2qA"
      },
      "execution_count": 6,
      "outputs": []
    },
    {
      "cell_type": "code",
      "source": [
        "# Normalize numerical columns\n",
        "scaler = StandardScaler()\n",
        "numerical_cols = [\"TotalValue\", \"Quantity\", \"ProductID\"]\n",
        "customer_profiles_encoded[numerical_cols] = scaler.fit_transform(customer_profiles_encoded[numerical_cols])\n",
        "\n"
      ],
      "metadata": {
        "id": "_WUeMqtof9U7"
      },
      "execution_count": 7,
      "outputs": []
    },
    {
      "cell_type": "code",
      "source": [
        "# Calculate similarity matrix\n",
        "def calculate_similarity_matrix(data):\n",
        "    return cosine_similarity(data)\n",
        "\n",
        "customer_ids = customer_profiles_encoded[\"CustomerID\"]\n",
        "similarity_matrix = calculate_similarity_matrix(customer_profiles_encoded.drop(columns=[\"CustomerID\"]))\n",
        "\n"
      ],
      "metadata": {
        "id": "tcicQKN9gAuw"
      },
      "execution_count": 8,
      "outputs": []
    },
    {
      "cell_type": "code",
      "source": [
        "# Recommend top 3 similar customers\n",
        "def get_top_3_similar(customers, sim_matrix, num_customers=20):\n",
        "    lookalike_map = {}\n",
        "    for i in range(num_customers):  # First 20 customers\n",
        "        customer_id = customers.iloc[i]\n",
        "        similarities = list(enumerate(sim_matrix[i]))\n",
        "        similarities = sorted(similarities, key=lambda x: x[1], reverse=True)  # Sort by similarity score\n",
        "        top_3 = [(customers.iloc[j], score) for j, score in similarities[1:4]]  # Exclude self\n",
        "        lookalike_map[customer_id] = top_3\n",
        "    return lookalike_map\n"
      ],
      "metadata": {
        "id": "LR816wbQgEWr"
      },
      "execution_count": 9,
      "outputs": []
    },
    {
      "cell_type": "code",
      "source": [
        "# Get lookalikes for the first 20 customers\n",
        "lookalike_map = get_top_3_similar(customer_ids, similarity_matrix)\n"
      ],
      "metadata": {
        "id": "kf141t-lgNQa"
      },
      "execution_count": 10,
      "outputs": []
    },
    {
      "cell_type": "code",
      "source": [
        "# Generate Lookalike.csv\n",
        "def generate_lookalike_csv(lookalike_map, output_file=\"Lookalike.csv\"):\n",
        "    lookalike_data = []\n",
        "    for cust_id, lookalikes in lookalike_map.items():\n",
        "        for lookalike_id, score in lookalikes:\n",
        "            lookalike_data.append({\"CustomerID\": cust_id, \"LookalikeID\": lookalike_id, \"Score\": score})\n",
        "    lookalike_df = pd.DataFrame(lookalike_data)\n",
        "    lookalike_df.to_csv(output_file, index=False)\n",
        "    print(f\"{output_file} generated successfully!\")\n",
        "\n"
      ],
      "metadata": {
        "id": "-qTw1rTsgQQW"
      },
      "execution_count": 11,
      "outputs": []
    },
    {
      "cell_type": "code",
      "source": [
        "# Generate the CSV and display the first 20 results\n",
        "generate_lookalike_csv(lookalike_map)\n"
      ],
      "metadata": {
        "colab": {
          "base_uri": "https://localhost:8080/",
          "height": 0
        },
        "id": "QIVr3fALgYEe",
        "outputId": "6545e660-3ac8-4e22-dd73-26175dd2eeb8"
      },
      "execution_count": 12,
      "outputs": [
        {
          "output_type": "stream",
          "name": "stdout",
          "text": [
            "Lookalike.csv generated successfully!\n"
          ]
        }
      ]
    },
    {
      "cell_type": "code",
      "source": [
        "# Print lookalike recommendations for the first 20 customers\n",
        "for customer_id, recommendations in lookalike_map.items():\n",
        "    print(f\"Customer {customer_id}:\")\n",
        "    for lookalike_id, score in recommendations:\n",
        "        print(f\"  Lookalike: {lookalike_id}, Score: {score:.4f}\")\n"
      ],
      "metadata": {
        "colab": {
          "base_uri": "https://localhost:8080/",
          "height": 0
        },
        "id": "x-85Xd-EgajI",
        "outputId": "bfd53651-959c-47c0-d7f3-017de22c88cb"
      },
      "execution_count": 13,
      "outputs": [
        {
          "output_type": "stream",
          "name": "stdout",
          "text": [
            "Customer C0001:\n",
            "  Lookalike: C0048, Score: 0.9820\n",
            "  Lookalike: C0190, Score: 0.9646\n",
            "  Lookalike: C0184, Score: 0.9453\n",
            "Customer C0002:\n",
            "  Lookalike: C0088, Score: 0.9418\n",
            "  Lookalike: C0077, Score: 0.8708\n",
            "  Lookalike: C0083, Score: 0.8562\n",
            "Customer C0003:\n",
            "  Lookalike: C0031, Score: 0.8989\n",
            "  Lookalike: C0076, Score: 0.8951\n",
            "  Lookalike: C0052, Score: 0.8941\n",
            "Customer C0004:\n",
            "  Lookalike: C0087, Score: 0.9496\n",
            "  Lookalike: C0169, Score: 0.9454\n",
            "  Lookalike: C0155, Score: 0.9400\n",
            "Customer C0005:\n",
            "  Lookalike: C0186, Score: 0.9975\n",
            "  Lookalike: C0007, Score: 0.9866\n",
            "  Lookalike: C0140, Score: 0.9859\n",
            "Customer C0006:\n",
            "  Lookalike: C0168, Score: 0.9531\n",
            "  Lookalike: C0187, Score: 0.8966\n",
            "  Lookalike: C0011, Score: 0.8729\n",
            "Customer C0007:\n",
            "  Lookalike: C0005, Score: 0.9866\n",
            "  Lookalike: C0115, Score: 0.9825\n",
            "  Lookalike: C0140, Score: 0.9770\n",
            "Customer C0008:\n",
            "  Lookalike: C0065, Score: 0.8779\n",
            "  Lookalike: C0090, Score: 0.8772\n",
            "  Lookalike: C0139, Score: 0.8510\n",
            "Customer C0009:\n",
            "  Lookalike: C0198, Score: 0.9877\n",
            "  Lookalike: C0061, Score: 0.9676\n",
            "  Lookalike: C0062, Score: 0.9271\n",
            "Customer C0010:\n",
            "  Lookalike: C0111, Score: 0.8899\n",
            "  Lookalike: C0062, Score: 0.8798\n",
            "  Lookalike: C0061, Score: 0.8539\n",
            "Customer C0011:\n",
            "  Lookalike: C0137, Score: 0.9278\n",
            "  Lookalike: C0174, Score: 0.8903\n",
            "  Lookalike: C0191, Score: 0.8788\n",
            "Customer C0012:\n",
            "  Lookalike: C0163, Score: 0.9656\n",
            "  Lookalike: C0113, Score: 0.9604\n",
            "  Lookalike: C0195, Score: 0.9431\n",
            "Customer C0013:\n",
            "  Lookalike: C0099, Score: 0.9861\n",
            "  Lookalike: C0108, Score: 0.9645\n",
            "  Lookalike: C0155, Score: 0.8993\n",
            "Customer C0014:\n",
            "  Lookalike: C0060, Score: 0.9995\n",
            "  Lookalike: C0097, Score: 0.9546\n",
            "  Lookalike: C0128, Score: 0.9508\n",
            "Customer C0015:\n",
            "  Lookalike: C0131, Score: 0.9851\n",
            "  Lookalike: C0036, Score: 0.9773\n",
            "  Lookalike: C0058, Score: 0.9527\n",
            "Customer C0016:\n",
            "  Lookalike: C0183, Score: 0.9763\n",
            "  Lookalike: C0067, Score: 0.8589\n",
            "  Lookalike: C0030, Score: 0.8305\n",
            "Customer C0017:\n",
            "  Lookalike: C0075, Score: 0.9761\n",
            "  Lookalike: C0041, Score: 0.9329\n",
            "  Lookalike: C0175, Score: 0.9000\n",
            "Customer C0018:\n",
            "  Lookalike: C0046, Score: 0.8774\n",
            "  Lookalike: C0122, Score: 0.8409\n",
            "  Lookalike: C0068, Score: 0.7733\n",
            "Customer C0019:\n",
            "  Lookalike: C0172, Score: 0.8080\n",
            "  Lookalike: C0081, Score: 0.7612\n",
            "  Lookalike: C0121, Score: 0.7537\n",
            "Customer C0020:\n",
            "  Lookalike: C0015, Score: 0.9426\n",
            "  Lookalike: C0140, Score: 0.9390\n",
            "  Lookalike: C0186, Score: 0.9193\n"
          ]
        }
      ]
    },
    {
      "cell_type": "code",
      "source": [],
      "metadata": {
        "id": "VBIoxOz3gdtV"
      },
      "execution_count": null,
      "outputs": []
    }
  ]
}